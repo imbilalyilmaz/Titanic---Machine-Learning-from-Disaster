{
 "cells": [
  {
   "cell_type": "code",
   "execution_count": 16,
   "metadata": {},
   "outputs": [],
   "source": [
    "import numpy as np\n",
    "import pandas as pd\n",
    "from sklearn.metrics import confusion_matrix,accuracy_score, precision_score, recall_score, f1_score"
   ]
  },
  {
   "cell_type": "code",
   "execution_count": 17,
   "metadata": {},
   "outputs": [],
   "source": [
    "train = pd.read_csv('./dataset/train.csv')\n",
    "X_train = train.iloc[:,2:].values\n",
    "y_train = train.iloc[:,1].values\n",
    "\n",
    "test = pd.read_csv('./dataset/test.csv')\n",
    "X_test = test.iloc[:,1:].values\n",
    "\n",
    "y_test = pd.read_csv('./dataset/gender_submission.csv')\n",
    "y_test = y_test.iloc[:,1].values"
   ]
  },
  {
   "cell_type": "markdown",
   "metadata": {},
   "source": [
    "## Data Preprocessing"
   ]
  },
  {
   "cell_type": "code",
   "execution_count": 18,
   "metadata": {},
   "outputs": [],
   "source": [
    "from sklearn.impute import SimpleImputer\n",
    "imputerMean = SimpleImputer(missing_values=np.nan, strategy='mean')\n",
    "imputerMost = SimpleImputer(missing_values=np.nan, strategy='most_frequent')"
   ]
  },
  {
   "cell_type": "code",
   "execution_count": 19,
   "metadata": {},
   "outputs": [],
   "source": [
    "#Eksik verilere gerekli işlemleri yapıyorum.\n",
    "X_train[:,3:4] = imputerMean.fit_transform(X_train[:,3:4])\n",
    "X_test[:,3:4] = imputerMean.fit_transform(X_test[:,3:4])\n",
    "\n",
    "X_train = np.delete(X_train, 1, axis=1) #İsimler gereksiz olduğu için kaldırdım\n",
    "X_test = np.delete(X_test, 1, axis=1) #İsimler gereksiz olduğu için kaldırdım\n",
    "\n",
    "X_train = imputerMost.fit_transform(X_train)\n",
    "X_test = imputerMost.fit_transform(X_test)\n"
   ]
  },
  {
   "cell_type": "code",
   "execution_count": 20,
   "metadata": {},
   "outputs": [],
   "source": [
    "#Label encoder ile kategorik sütunları sayısal hale getirdim.\n",
    "from sklearn.preprocessing import LabelEncoder\n",
    "le = LabelEncoder()\n",
    "\n",
    "X_train[:,5] = le.fit_transform(X_train[:,5])\n",
    "X_test[:,5] = le.fit_transform(X_test[:,5])\n",
    "X_train[:,7] = le.fit_transform(X_train[:,7])\n",
    "X_test[:,7] = le.fit_transform(X_test[:,7])"
   ]
  },
  {
   "cell_type": "code",
   "execution_count": 21,
   "metadata": {},
   "outputs": [],
   "source": [
    "#One Hot Encoding ile kategorik sütunları sayısal hale getirdim.\n",
    "from sklearn.compose import ColumnTransformer\n",
    "from sklearn.preprocessing import OneHotEncoder\n",
    "ct = ColumnTransformer(transformers=[('encoder', OneHotEncoder(),[1,8])], remainder='passthrough')\n",
    "X_train = np.array(ct.fit_transform(X_train))\n",
    "X_test = np.array(ct.fit_transform(X_test))"
   ]
  },
  {
   "cell_type": "markdown",
   "metadata": {},
   "source": [
    "## Standartization"
   ]
  },
  {
   "cell_type": "code",
   "execution_count": 22,
   "metadata": {},
   "outputs": [],
   "source": [
    "#Standartization sayesinde her sütündaki verileri -3 ile 3 arasında sayılara dönüştürdüm. (Hepsi orantılı olarak dönüşüyor)\n",
    "from sklearn.preprocessing import StandardScaler\n",
    "sc = StandardScaler()\n",
    "\n",
    "X_train[:,5:] = sc.fit_transform(X_train[:,5:])\n",
    "X_test[:,5:] = sc.transform(X_test[:,5:])"
   ]
  },
  {
   "cell_type": "markdown",
   "metadata": {},
   "source": [
    "## Logistic Regression"
   ]
  },
  {
   "cell_type": "code",
   "execution_count": 23,
   "metadata": {},
   "outputs": [
    {
     "name": "stdout",
     "output_type": "stream",
     "text": [
      "Logistic Regression Confusion Matrix:\n",
      " [[253  13]\n",
      " [ 16 136]]\n",
      "Logistic Regression Accuracy: 0.93\n",
      "Logistic Regression Precision: 0.91\n",
      "Logistic Regression Recall: 0.89\n",
      "Logistic Regression F1-Score: 0.90\n"
     ]
    }
   ],
   "source": [
    "from sklearn.linear_model import LogisticRegression\n",
    "log_model = LogisticRegression(random_state=42, max_iter=1000)\n",
    "log_model.fit(X_train, y_train)\n",
    "\n",
    "y_pred = log_model.predict(X_test)\n",
    "\n",
    "cm = confusion_matrix(y_test, y_pred)\n",
    "print(f\"Logistic Regression Confusion Matrix:\\n {cm}\")\n",
    "\n",
    "# Accuracy\n",
    "accuracy = accuracy_score(y_test, y_pred)\n",
    "print(f\"Logistic Regression Accuracy: {accuracy:.2f}\")\n",
    "\n",
    "# Precision\n",
    "precision = precision_score(y_test, y_pred, average='binary')\n",
    "print(f\"Logistic Regression Precision: {precision:.2f}\")\n",
    "\n",
    "# Recall\n",
    "recall = recall_score(y_test, y_pred, average='binary')\n",
    "print(f\"Logistic Regression Recall: {recall:.2f}\")\n",
    "\n",
    "# F1-Score\n",
    "f1 = f1_score(y_test, y_pred, average='binary')\n",
    "print(f\"Logistic Regression F1-Score: {f1:.2f}\")"
   ]
  },
  {
   "cell_type": "markdown",
   "metadata": {},
   "source": [
    "## K-NN"
   ]
  },
  {
   "cell_type": "code",
   "execution_count": 24,
   "metadata": {},
   "outputs": [
    {
     "name": "stdout",
     "output_type": "stream",
     "text": [
      "K-NN Confusion Matrix:\n",
      " [[222  44]\n",
      " [ 29 123]]\n",
      "K-NN Accuracy: 0.83\n",
      "K-NN Precision: 0.74\n",
      "K-NN Recall: 0.81\n",
      "K-NN F1-Score: 0.77\n"
     ]
    }
   ],
   "source": [
    "from sklearn.neighbors import KNeighborsClassifier\n",
    "knnClassifier = KNeighborsClassifier(n_neighbors=5, metric='minkowski', p=2)\n",
    "knnClassifier.fit(X_train, y_train)\n",
    "\n",
    "y_pred = knnClassifier.predict(X_test)\n",
    "\n",
    "cm = confusion_matrix(y_test, y_pred)\n",
    "print(f\"K-NN Confusion Matrix:\\n {cm}\")\n",
    "\n",
    "# Accuracy\n",
    "accuracy = accuracy_score(y_test, y_pred)\n",
    "print(f\"K-NN Accuracy: {accuracy:.2f}\")\n",
    "\n",
    "# Precision\n",
    "precision = precision_score(y_test, y_pred, average='binary')\n",
    "print(f\"K-NN Precision: {precision:.2f}\")\n",
    "\n",
    "# Recall\n",
    "recall = recall_score(y_test, y_pred, average='binary')\n",
    "print(f\"K-NN Recall: {recall:.2f}\")\n",
    "\n",
    "# F1-Score\n",
    "f1 = f1_score(y_test, y_pred, average='binary')\n",
    "print(f\"K-NN F1-Score: {f1:.2f}\")\n"
   ]
  },
  {
   "cell_type": "markdown",
   "metadata": {},
   "source": [
    "## SVM (Linear)"
   ]
  },
  {
   "cell_type": "code",
   "execution_count": 25,
   "metadata": {},
   "outputs": [
    {
     "name": "stdout",
     "output_type": "stream",
     "text": [
      "SVM(Linear) Confusion Matrix:\n",
      " [[266   0]\n",
      " [  0 152]]\n",
      "SVM(Linear) Accuracy: 1.00\n",
      "SVM(Linear) Precision: 1.00\n",
      "SVM(Linear) Recall: 1.00\n",
      "SVM(Linear) F1-Score: 1.00\n"
     ]
    }
   ],
   "source": [
    "from sklearn.svm import SVC\n",
    "svm_model = SVC(kernel='linear', random_state=42)\n",
    "svm_model.fit(X_train, y_train)\n",
    "\n",
    "y_pred = svm_model.predict(X_test)\n",
    "\n",
    "cm = confusion_matrix(y_test, y_pred)\n",
    "print(f\"SVM(Linear) Confusion Matrix:\\n {cm}\")\n",
    "\n",
    "# Accuracy\n",
    "accuracy = accuracy_score(y_test, y_pred)\n",
    "print(f\"SVM(Linear) Accuracy: {accuracy:.2f}\")\n",
    "\n",
    "# Precision\n",
    "precision = precision_score(y_test, y_pred, average='binary')\n",
    "print(f\"SVM(Linear) Precision: {precision:.2f}\")\n",
    "\n",
    "# Recall\n",
    "recall = recall_score(y_test, y_pred, average='binary')\n",
    "print(f\"SVM(Linear) Recall: {recall:.2f}\")\n",
    "\n",
    "# F1-Score\n",
    "f1 = f1_score(y_test, y_pred, average='binary')\n",
    "print(f\"SVM(Linear) F1-Score: {f1:.2f}\")"
   ]
  },
  {
   "cell_type": "markdown",
   "metadata": {},
   "source": [
    "## SVM (RBF)"
   ]
  },
  {
   "cell_type": "code",
   "execution_count": 26,
   "metadata": {},
   "outputs": [
    {
     "name": "stdout",
     "output_type": "stream",
     "text": [
      "SVM(RBF) Confusion Matrix:\n",
      " [[251  15]\n",
      " [  8 144]]\n",
      "SVM(RBF) Accuracy: 0.94\n",
      "SVM(RBF) Precision: 0.91\n",
      "SVM(RBF) Recall: 0.95\n",
      "SVM(RBF) F1-Score: 0.93\n"
     ]
    }
   ],
   "source": [
    "from sklearn.svm import SVC\n",
    "rbfsvm_model = SVC(kernel='rbf', random_state=42)\n",
    "rbfsvm_model.fit(X_train, y_train)\n",
    "\n",
    "y_pred = rbfsvm_model.predict(X_test)\n",
    "\n",
    "cm = confusion_matrix(y_test, y_pred)\n",
    "print(f\"SVM(RBF) Confusion Matrix:\\n {cm}\")\n",
    "\n",
    "# Accuracy\n",
    "accuracy = accuracy_score(y_test, y_pred)\n",
    "print(f\"SVM(RBF) Accuracy: {accuracy:.2f}\")\n",
    "\n",
    "# Precision\n",
    "precision = precision_score(y_test, y_pred, average='binary')\n",
    "print(f\"SVM(RBF) Precision: {precision:.2f}\")\n",
    "\n",
    "# Recall\n",
    "recall = recall_score(y_test, y_pred, average='binary')\n",
    "print(f\"SVM(RBF) Recall: {recall:.2f}\")\n",
    "\n",
    "# F1-Score\n",
    "f1 = f1_score(y_test, y_pred, average='binary')\n",
    "print(f\"SVM(RBF) F1-Score: {f1:.2f}\")"
   ]
  },
  {
   "cell_type": "markdown",
   "metadata": {},
   "source": [
    "## Naive Bayes"
   ]
  },
  {
   "cell_type": "code",
   "execution_count": 27,
   "metadata": {},
   "outputs": [
    {
     "name": "stdout",
     "output_type": "stream",
     "text": [
      "Naive Bayes Confusion Matrix:\n",
      " [[232  34]\n",
      " [  4 148]]\n",
      "Naive Bayes Accuracy: 0.91\n",
      "Naive Bayes Precision: 0.81\n",
      "Naive Bayes Recall: 0.97\n",
      "Naive Bayes F1-Score: 0.89\n"
     ]
    }
   ],
   "source": [
    "from sklearn.naive_bayes import GaussianNB\n",
    "gaus_model = GaussianNB()\n",
    "gaus_model.fit(X_train, y_train)\n",
    "\n",
    "y_pred = gaus_model.predict(X_test)\n",
    "\n",
    "cm = confusion_matrix(y_test, y_pred)\n",
    "print(f\"Naive Bayes Confusion Matrix:\\n {cm}\")\n",
    "\n",
    "# Accuracy\n",
    "accuracy = accuracy_score(y_test, y_pred)\n",
    "print(f\"Naive Bayes Accuracy: {accuracy:.2f}\")\n",
    "\n",
    "# Precision\n",
    "precision = precision_score(y_test, y_pred, average='binary')\n",
    "print(f\"Naive Bayes Precision: {precision:.2f}\")\n",
    "\n",
    "# Recall\n",
    "recall = recall_score(y_test, y_pred, average='binary')\n",
    "print(f\"Naive Bayes Recall: {recall:.2f}\")\n",
    "\n",
    "# F1-Score\n",
    "f1 = f1_score(y_test, y_pred, average='binary')\n",
    "print(f\"Naive Bayes F1-Score: {f1:.2f}\")"
   ]
  },
  {
   "cell_type": "markdown",
   "metadata": {},
   "source": [
    "## Decision Tree"
   ]
  },
  {
   "cell_type": "code",
   "execution_count": 28,
   "metadata": {},
   "outputs": [
    {
     "name": "stdout",
     "output_type": "stream",
     "text": [
      "Decision Tree Confusion Matrix:\n",
      " [[190  76]\n",
      " [ 33 119]]\n",
      "Decision Tree Accuracy: 0.74\n",
      "Decision Tree Precision: 0.61\n",
      "Decision Tree Recall: 0.78\n",
      "Decision Tree F1-Score: 0.69\n"
     ]
    }
   ],
   "source": [
    "from sklearn.tree import DecisionTreeClassifier\n",
    "dt_model = DecisionTreeClassifier(criterion = 'entropy', random_state = 0)\n",
    "dt_model.fit(X_train, y_train)\n",
    "\n",
    "y_pred = dt_model.predict(X_test)\n",
    "\n",
    "cm = confusion_matrix(y_test, y_pred)\n",
    "print(f\"Decision Tree Confusion Matrix:\\n {cm}\")\n",
    "\n",
    "# Accuracy\n",
    "accuracy = accuracy_score(y_test, y_pred)\n",
    "print(f\"Decision Tree Accuracy: {accuracy:.2f}\")\n",
    "\n",
    "# Precision\n",
    "precision = precision_score(y_test, y_pred, average='binary')\n",
    "print(f\"Decision Tree Precision: {precision:.2f}\")\n",
    "\n",
    "# Recall\n",
    "recall = recall_score(y_test, y_pred, average='binary')\n",
    "print(f\"Decision Tree Recall: {recall:.2f}\")\n",
    "\n",
    "# F1-Score\n",
    "f1 = f1_score(y_test, y_pred, average='binary')\n",
    "print(f\"Decision Tree F1-Score: {f1:.2f}\")"
   ]
  },
  {
   "cell_type": "markdown",
   "metadata": {},
   "source": [
    "## Random Forest"
   ]
  },
  {
   "cell_type": "code",
   "execution_count": 29,
   "metadata": {},
   "outputs": [
    {
     "name": "stdout",
     "output_type": "stream",
     "text": [
      "Random Forest Confusion Matrix:\n",
      " [[243  23]\n",
      " [ 12 140]]\n",
      "Random Forest Accuracy: 0.92\n",
      "Random Forest Precision: 0.86\n",
      "Random Forest Recall: 0.92\n",
      "Random Forest F1-Score: 0.89\n"
     ]
    }
   ],
   "source": [
    "from sklearn.ensemble import RandomForestClassifier\n",
    "rf_model = RandomForestClassifier(n_estimators=100, max_depth=10, random_state=42)\n",
    "rf_model.fit(X_train, y_train)\n",
    "\n",
    "y_pred = rf_model.predict(X_test)\n",
    "\n",
    "cm = confusion_matrix(y_test, y_pred)\n",
    "print(f\"Random Forest Confusion Matrix:\\n {cm}\")\n",
    "\n",
    "# Accuracy\n",
    "accuracy = accuracy_score(y_test, y_pred)\n",
    "print(f\"Random Forest Accuracy: {accuracy:.2f}\")\n",
    "\n",
    "# Precision\n",
    "precision = precision_score(y_test, y_pred, average='binary')\n",
    "print(f\"Random Forest Precision: {precision:.2f}\")\n",
    "\n",
    "# Recall\n",
    "recall = recall_score(y_test, y_pred, average='binary')\n",
    "print(f\"Random Forest Recall: {recall:.2f}\")\n",
    "\n",
    "# F1-Score\n",
    "f1 = f1_score(y_test, y_pred, average='binary')\n",
    "print(f\"Random Forest F1-Score: {f1:.2f}\")"
   ]
  },
  {
   "cell_type": "markdown",
   "metadata": {},
   "source": [
    "## Gradient Boosting"
   ]
  },
  {
   "cell_type": "code",
   "execution_count": 30,
   "metadata": {},
   "outputs": [
    {
     "name": "stdout",
     "output_type": "stream",
     "text": [
      "XGB Confusion Matrix:\n",
      " [[210  56]\n",
      " [ 17 135]]\n",
      "XGB Accuracy: 0.83\n",
      "XGB Precision: 0.71\n",
      "XGB Recall: 0.89\n",
      "XGB F1-Score: 0.79\n"
     ]
    }
   ],
   "source": [
    "from xgboost import XGBClassifier\n",
    "xgb_model = XGBClassifier(random_state=42,  eval_metric='mlogloss')\n",
    "xgb_model.fit(X_train, y_train)\n",
    "\n",
    "y_pred = xgb_model.predict(X_test)\n",
    "\n",
    "cm = confusion_matrix(y_test, y_pred)\n",
    "print(f\"XGB Confusion Matrix:\\n {cm}\")\n",
    "\n",
    "# Accuracy\n",
    "accuracy = accuracy_score(y_test, y_pred)\n",
    "print(f\"XGB Accuracy: {accuracy:.2f}\")\n",
    "\n",
    "# Precision\n",
    "precision = precision_score(y_test, y_pred, average='binary')\n",
    "print(f\"XGB Precision: {precision:.2f}\")\n",
    "\n",
    "# Recall\n",
    "recall = recall_score(y_test, y_pred, average='binary')\n",
    "print(f\"XGB Recall: {recall:.2f}\")\n",
    "\n",
    "# F1-Score\n",
    "f1 = f1_score(y_test, y_pred, average='binary')\n",
    "print(f\"XGB F1-Score: {f1:.2f}\")"
   ]
  }
 ],
 "metadata": {
  "kernelspec": {
   "display_name": "Python 3",
   "language": "python",
   "name": "python3"
  },
  "language_info": {
   "codemirror_mode": {
    "name": "ipython",
    "version": 3
   },
   "file_extension": ".py",
   "mimetype": "text/x-python",
   "name": "python",
   "nbconvert_exporter": "python",
   "pygments_lexer": "ipython3",
   "version": "3.12.1"
  }
 },
 "nbformat": 4,
 "nbformat_minor": 2
}
